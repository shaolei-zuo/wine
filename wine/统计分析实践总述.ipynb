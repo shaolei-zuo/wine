{
 "cells": [
  {
   "cell_type": "markdown",
   "metadata": {},
   "source": [
    "# 总述"
   ]
  },
  {
   "cell_type": "markdown",
   "metadata": {},
   "source": [
    "如果基本的代码类技能过了，就需要夯实统计方法了。我们可以通过  \n",
    "1、系统的统计理论学习  \n",
    "2、看别人的案例学习  "
   ]
  },
  {
   "cell_type": "markdown",
   "metadata": {},
   "source": [
    "## 1、系统的理论学习\n",
    "pass\n",
    "关键词：高级统计方法"
   ]
  },
  {
   "cell_type": "markdown",
   "metadata": {},
   "source": [
    "## 2研究案例\n",
    "### 2.1 找案例\n",
    "a.大网站的案例数据集作为入口，比如天池的红酒质量。  \n",
    "b.paper深挖，数据集很多都有相关paper，可以找到作者进一步进行深挖，比如uci什么的  \n",
    "c.特有关键词查询，比如某个特殊的特征名字  \n",
    "### 2.2看案例\n",
    "a.分析框架，尤其探索性分析  \n",
    "b.分析方法，可以根据框架的步骤来归类  "
   ]
  }
 ],
 "metadata": {
  "kernelspec": {
   "display_name": "Python 3",
   "language": "python",
   "name": "python3"
  },
  "language_info": {
   "codemirror_mode": {
    "name": "ipython",
    "version": 3
   },
   "file_extension": ".py",
   "mimetype": "text/x-python",
   "name": "python",
   "nbconvert_exporter": "python",
   "pygments_lexer": "ipython3",
   "version": "3.6.8"
  }
 },
 "nbformat": 4,
 "nbformat_minor": 2
}
